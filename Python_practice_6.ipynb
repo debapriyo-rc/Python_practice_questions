{
 "cells": [
  {
   "cell_type": "markdown",
   "metadata": {},
   "source": [
    "# Question 21"
   ]
  },
  {
   "cell_type": "markdown",
   "metadata": {},
   "source": [
    "Question:\n",
    "A robot moves in a plane starting from the original point (0,0). The robot can move toward UP, DOWN, LEFT and RIGHT with a given steps. The trace of robot movement is shown as the following:\n",
    "\n",
    "UP 5\n",
    "\n",
    "DOWN 3\n",
    "\n",
    "LEFT 3\n",
    "\n",
    "RIGHT 2\n",
    "\n",
    "The numbers after the direction are steps. Please write a program to compute the distance from current position after a sequence of movement and original point. If the distance is a float, then just print the nearest integer. Example: If the following tuples are given as input to the program:\n",
    "\n",
    "UP 5\n",
    "\n",
    "DOWN 3\n",
    "\n",
    "LEFT 3\n",
    "\n",
    "RIGHT 2\n",
    "\n",
    "Then, the output of the program should be:\n",
    "\n",
    "2"
   ]
  },
  {
   "cell_type": "markdown",
   "metadata": {},
   "source": [
    "# Solution"
   ]
  },
  {
   "cell_type": "code",
   "execution_count": 2,
   "metadata": {},
   "outputs": [
    {
     "name": "stdout",
     "output_type": "stream",
     "text": [
      "UP 5\n",
      "DOWN 3\n",
      "LEFT 3\n",
      "RIGHT 2\n",
      "\n",
      "\n",
      "2\n"
     ]
    }
   ],
   "source": [
    "loc=[0,0]\n",
    "while True:\n",
    "    pos=input().split(\" \")\n",
    "    if pos[0]=='UP':\n",
    "        loc[1]+=int(pos[1])\n",
    "    elif pos[0]=='DOWN':\n",
    "        loc[1]-=int(pos[1])\n",
    "    elif pos[0]=='LEFT':\n",
    "        loc[0]-=int(pos[1])\n",
    "    elif pos[0]=='RIGHT':\n",
    "        loc[0]+=int(pos[1])\n",
    "    elif input()=='':\n",
    "        break\n",
    "\n",
    "print(round(((loc[0]**2)+(loc[1]**2))**0.5))"
   ]
  },
  {
   "cell_type": "markdown",
   "metadata": {},
   "source": [
    "# Question 22"
   ]
  },
  {
   "cell_type": "markdown",
   "metadata": {},
   "source": [
    "Question:\n",
    "Write a program to compute the frequency of the words from the input. The output should output after sorting the key alphanumerically.\n",
    "\n",
    "Suppose the following input is supplied to the program:\n",
    "\n",
    "New to Python or choosing between Python 2 and Python 3? Read Python 2 or Python 3.\n",
    "Then, the output should be:\n",
    "\n",
    "2:2\n",
    "    \n",
    "3.:1\n",
    "    \n",
    "3?:1\n",
    "    \n",
    "New:1\n",
    "    \n",
    "Python:5\n",
    "    \n",
    "Read:1\n",
    "    \n",
    "and:1\n",
    "    \n",
    "between:1\n",
    "    \n",
    "choosing:1\n",
    "    \n",
    "or:2\n",
    "    \n",
    "to:1\n",
    "    "
   ]
  },
  {
   "cell_type": "markdown",
   "metadata": {},
   "source": [
    "# Solution"
   ]
  },
  {
   "cell_type": "code",
   "execution_count": 8,
   "metadata": {},
   "outputs": [
    {
     "name": "stdout",
     "output_type": "stream",
     "text": [
      "New to Python or choosing between Python 2 and Python 3? Read Python 2 or Python 3\n",
      "New : 1\n",
      "to : 1\n",
      "Python : 5\n",
      "or : 2\n",
      "choosing : 1\n",
      "between : 1\n",
      "2 : 2\n",
      "and : 1\n",
      "3? : 1\n",
      "Read : 1\n",
      "3 : 1\n"
     ]
    }
   ],
   "source": [
    "d={}\n",
    "s=input().split(\" \")\n",
    "for i in s:\n",
    "    if i in d:\n",
    "        d[i]+=1\n",
    "    else:\n",
    "        d[i]=1\n",
    "for x,y in d.items():\n",
    "    print(x,\":\",y)"
   ]
  },
  {
   "cell_type": "markdown",
   "metadata": {},
   "source": [
    "# Question 23"
   ]
  },
  {
   "cell_type": "markdown",
   "metadata": {},
   "source": [
    "Write a method which can calculate square value of number"
   ]
  },
  {
   "cell_type": "markdown",
   "metadata": {},
   "source": [
    "# Solution"
   ]
  },
  {
   "cell_type": "code",
   "execution_count": 15,
   "metadata": {},
   "outputs": [
    {
     "name": "stdout",
     "output_type": "stream",
     "text": [
      "Enter the number to be squared : 5\n",
      "25\n"
     ]
    }
   ],
   "source": [
    "print(int(input(\"Enter the number to be squared : \"))**2)"
   ]
  },
  {
   "cell_type": "markdown",
   "metadata": {},
   "source": [
    "# Question 24"
   ]
  },
  {
   "cell_type": "markdown",
   "metadata": {},
   "source": [
    "Question:\n",
    "\n",
    "Define a class, which have a class parameter and have a same instance parameter."
   ]
  },
  {
   "cell_type": "markdown",
   "metadata": {},
   "source": [
    "# Solution"
   ]
  },
  {
   "cell_type": "code",
   "execution_count": 21,
   "metadata": {},
   "outputs": [
    {
     "name": "stdout",
     "output_type": "stream",
     "text": [
      "My car name is Honda\n",
      "My car name is Toyota\n"
     ]
    }
   ],
   "source": [
    "class Car:\n",
    "    name = \"My car\"\n",
    "\n",
    "    def __init__(self,name = None):\n",
    "        self.name = name\n",
    "\n",
    "honda=Car(\"Honda\")\n",
    "print(\"%s name is %s\"%(Car.name,honda.name))\n",
    "\n",
    "toyota=Car()\n",
    "toyota.name=\"Toyota\"\n",
    "print(\"%s name is %s\"%(Car.name,toyota.name))"
   ]
  },
  {
   "cell_type": "code",
   "execution_count": null,
   "metadata": {},
   "outputs": [],
   "source": []
  }
 ],
 "metadata": {
  "kernelspec": {
   "display_name": "Python 3",
   "language": "python",
   "name": "python3"
  },
  "language_info": {
   "codemirror_mode": {
    "name": "ipython",
    "version": 3
   },
   "file_extension": ".py",
   "mimetype": "text/x-python",
   "name": "python",
   "nbconvert_exporter": "python",
   "pygments_lexer": "ipython3",
   "version": "3.6.5"
  }
 },
 "nbformat": 4,
 "nbformat_minor": 2
}
