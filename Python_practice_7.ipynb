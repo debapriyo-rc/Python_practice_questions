{
 "cells": [
  {
   "cell_type": "markdown",
   "metadata": {},
   "source": [
    "# Question 25"
   ]
  },
  {
   "cell_type": "markdown",
   "metadata": {},
   "source": [
    "Define a function which can compute the sum of two numbers."
   ]
  },
  {
   "cell_type": "markdown",
   "metadata": {},
   "source": [
    "# Solution\n"
   ]
  },
  {
   "cell_type": "code",
   "execution_count": 2,
   "metadata": {},
   "outputs": [
    {
     "name": "stdout",
     "output_type": "stream",
     "text": [
      "Enter the first no : 3\n",
      "Enter the second no :4\n",
      "Output is :  7\n"
     ]
    }
   ],
   "source": [
    "def sum_num(n,m):\n",
    "    \n",
    "    return n+m\n",
    "    \n",
    "x=int(input(\"Enter the first no : \"))\n",
    "y=int(input(\"Enter the second no :\"))\n",
    "print(\"Output is : \",sum_num(x,y))"
   ]
  },
  {
   "cell_type": "markdown",
   "metadata": {},
   "source": [
    "# Question 26"
   ]
  },
  {
   "cell_type": "markdown",
   "metadata": {},
   "source": [
    "Define a function that can convert a integer into a string and print it in console."
   ]
  },
  {
   "cell_type": "markdown",
   "metadata": {},
   "source": [
    "# Solution\n"
   ]
  },
  {
   "cell_type": "code",
   "execution_count": 5,
   "metadata": {},
   "outputs": [
    {
     "name": "stdout",
     "output_type": "stream",
     "text": [
      "enter the number : 3\n",
      "3 <class 'str'>\n"
     ]
    }
   ],
   "source": [
    "con=lambda x:str(x)\n",
    "\n",
    "n=int(input(\"enter the number : \"))\n",
    "print(con(n),type(con(n)))\n"
   ]
  },
  {
   "cell_type": "markdown",
   "metadata": {},
   "source": [
    "# Question 27"
   ]
  },
  {
   "cell_type": "markdown",
   "metadata": {},
   "source": [
    "Define a function that can receive two integer numbers in string form and compute their sum and then print it in console."
   ]
  },
  {
   "cell_type": "markdown",
   "metadata": {},
   "source": [
    "# Solution"
   ]
  },
  {
   "cell_type": "code",
   "execution_count": 7,
   "metadata": {},
   "outputs": [
    {
     "name": "stdout",
     "output_type": "stream",
     "text": [
      "Enter the first no : 3\n",
      "Enter the second no :4\n",
      "Output is :  7\n"
     ]
    }
   ],
   "source": [
    "def sum_num(n,m):\n",
    "    \n",
    "    return int(n)+int(m)\n",
    "    \n",
    "x=input(\"Enter the first no : \")\n",
    "y=input(\"Enter the second no :\")\n",
    "print(\"Output is : \",sum_num(x,y))"
   ]
  },
  {
   "cell_type": "markdown",
   "metadata": {},
   "source": [
    "# Question 28"
   ]
  },
  {
   "cell_type": "markdown",
   "metadata": {},
   "source": [
    "Define a function that can accept two strings as input and concatenate them and then print it in console.\n"
   ]
  },
  {
   "cell_type": "markdown",
   "metadata": {},
   "source": [
    "# Solution"
   ]
  },
  {
   "cell_type": "code",
   "execution_count": 11,
   "metadata": {},
   "outputs": [
    {
     "name": "stdout",
     "output_type": "stream",
     "text": [
      "Enter the first no : 7\n",
      "Enter the second no :5\n",
      "Output is :  75\n"
     ]
    }
   ],
   "source": [
    "def concat(n,m):\n",
    "    \n",
    "    return n+m\n",
    "    \n",
    "x=input(\"Enter the first no : \")\n",
    "y=input(\"Enter the second no :\")\n",
    "print(\"Output is : \",concat(x,y))"
   ]
  },
  {
   "cell_type": "code",
   "execution_count": null,
   "metadata": {},
   "outputs": [],
   "source": []
  }
 ],
 "metadata": {
  "kernelspec": {
   "display_name": "Python 3",
   "language": "python",
   "name": "python3"
  },
  "language_info": {
   "codemirror_mode": {
    "name": "ipython",
    "version": 3
   },
   "file_extension": ".py",
   "mimetype": "text/x-python",
   "name": "python",
   "nbconvert_exporter": "python",
   "pygments_lexer": "ipython3",
   "version": "3.6.5"
  }
 },
 "nbformat": 4,
 "nbformat_minor": 2
}
